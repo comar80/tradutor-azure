{
  "nbformat": 4,
  "nbformat_minor": 0,
  "metadata": {
    "colab": {
      "provenance": [],
      "authorship_tag": "ABX9TyM/wL5YJWNKW04GvZqNPVHT",
      "include_colab_link": true
    },
    "kernelspec": {
      "name": "python3",
      "display_name": "Python 3"
    },
    "language_info": {
      "name": "python"
    }
  },
  "cells": [
    {
      "cell_type": "markdown",
      "metadata": {
        "id": "view-in-github",
        "colab_type": "text"
      },
      "source": [
        "<a href=\"https://colab.research.google.com/github/comar80/tradutor-azure/blob/main/Tradutor_de_docx.ipynb\" target=\"_parent\"><img src=\"https://colab.research.google.com/assets/colab-badge.svg\" alt=\"Open In Colab\"/></a>"
      ]
    },
    {
      "cell_type": "code",
      "execution_count": null,
      "metadata": {
        "colab": {
          "base_uri": "https://localhost:8080/"
        },
        "id": "i4pvpmEQd7Ib",
        "outputId": "f9f1ed4c-446c-4987-9681-8dc4f215e006"
      },
      "outputs": [
        {
          "output_type": "stream",
          "name": "stdout",
          "text": [
            "Requirement already satisfied: requests in /usr/local/lib/python3.10/dist-packages (2.32.3)\n",
            "Collecting python-docx\n",
            "  Downloading python_docx-1.1.2-py3-none-any.whl.metadata (2.0 kB)\n",
            "Requirement already satisfied: charset-normalizer<4,>=2 in /usr/local/lib/python3.10/dist-packages (from requests) (3.4.0)\n",
            "Requirement already satisfied: idna<4,>=2.5 in /usr/local/lib/python3.10/dist-packages (from requests) (3.10)\n",
            "Requirement already satisfied: urllib3<3,>=1.21.1 in /usr/local/lib/python3.10/dist-packages (from requests) (2.2.3)\n",
            "Requirement already satisfied: certifi>=2017.4.17 in /usr/local/lib/python3.10/dist-packages (from requests) (2024.8.30)\n",
            "Requirement already satisfied: lxml>=3.1.0 in /usr/local/lib/python3.10/dist-packages (from python-docx) (5.3.0)\n",
            "Requirement already satisfied: typing-extensions>=4.9.0 in /usr/local/lib/python3.10/dist-packages (from python-docx) (4.12.2)\n",
            "Downloading python_docx-1.1.2-py3-none-any.whl (244 kB)\n",
            "\u001b[2K   \u001b[90m━━━━━━━━━━━━━━━━━━━━━━━━━━━━━━━━━━━━━━━━\u001b[0m \u001b[32m244.3/244.3 kB\u001b[0m \u001b[31m2.1 MB/s\u001b[0m eta \u001b[36m0:00:00\u001b[0m\n",
            "\u001b[?25hInstalling collected packages: python-docx\n",
            "Successfully installed python-docx-1.1.2\n"
          ]
        }
      ],
      "source": [
        "!pip install requests python-docx"
      ]
    },
    {
      "cell_type": "code",
      "source": [
        "import requests\n",
        "from docx import Document\n",
        "import os\n",
        "from google.colab import userdata\n",
        "\n",
        "\n",
        "subscription_key = userdata.get('subscription_key')\n",
        "endpoint = 'https://api.cognitive.microsofttranslator.com'\n",
        "location = 'eastus2'\n",
        "target_language = 'pt-br'\n",
        "\n",
        "def translator_text(text, target_language):\n",
        "  path = '/translate'\n",
        "  constructed_url = endpoint + path\n",
        "  headers = {\n",
        "      'Ocp-Apim-Subscription-Key': subscription_key,\n",
        "      'Ocp-Apim-Subscription-Region': location,\n",
        "      'Content-type':'application/json',\n",
        "      'X-ClientTraceId': str(os.urandom(16))\n",
        "  }\n",
        "\n",
        "  body = [{\n",
        "      'text':text\n",
        "  }]\n",
        "  params = {\n",
        "      'api-version': '3.0',\n",
        "      'from': 'en',\n",
        "      'to': target_language\n",
        "  }\n",
        "  request = requests.post(constructed_url, params=params, headers=headers, json=body)\n",
        "  response = request.json()\n",
        "  return response[0][\"translations\"][0][\"text\"]\n",
        "\n"
      ],
      "metadata": {
        "id": "Xw_yrjNqegyv"
      },
      "execution_count": 8,
      "outputs": []
    },
    {
      "cell_type": "code",
      "source": [
        "translator_text(\"The 1998 FIFA World Cup, held in France from June 10 to July 12, marked the 16th edition of the tournament and was notable for several reasons\", target_language=target_language)"
      ],
      "metadata": {
        "colab": {
          "base_uri": "https://localhost:8080/",
          "height": 35
        },
        "id": "nRWwQcqshVMe",
        "outputId": "30645b5c-29cb-4bf7-93b5-8a848b624b36"
      },
      "execution_count": 9,
      "outputs": [
        {
          "output_type": "execute_result",
          "data": {
            "text/plain": [
              "'A Copa do Mundo FIFA de 1998, realizada na França de 10 de junho a 12 de julho, marcou a 16ª edição do torneio e foi notável por vários motivos'"
            ],
            "application/vnd.google.colaboratory.intrinsic+json": {
              "type": "string"
            }
          },
          "metadata": {},
          "execution_count": 9
        }
      ]
    },
    {
      "cell_type": "code",
      "source": [
        "def translate_document(path):\n",
        "  document = Document(path)\n",
        "  full_text = []\n",
        "  for paragraph in document.paragraphs:\n",
        "    translated_text = translator_text(paragraph.text, target_language)\n",
        "    full_text.append(translated_text)\n",
        "\n",
        "  translated_doc = Document()\n",
        "  for line in full_text:\n",
        "    translated_doc.add_paragraph(line)\n",
        "  path_translated = path.replace(\".docx\", f\"_{target_language}.docx\")\n",
        "  translated_doc.save(path_translated)\n",
        "  return path_translated"
      ],
      "metadata": {
        "id": "DjBfRRdFhtWY"
      },
      "execution_count": null,
      "outputs": []
    },
    {
      "cell_type": "code",
      "source": [
        "input_file = \"/content/The 1998 FIFA World Cup.docx\"\n",
        "\n",
        "translate_document(input_file)"
      ],
      "metadata": {
        "colab": {
          "base_uri": "https://localhost:8080/",
          "height": 35
        },
        "id": "XON5jlV-jJCk",
        "outputId": "30c51056-53e6-4a7a-ba99-9c253f3504c4"
      },
      "execution_count": null,
      "outputs": [
        {
          "output_type": "execute_result",
          "data": {
            "text/plain": [
              "'/content/The 1998 FIFA World Cup_pt-br.docx'"
            ],
            "application/vnd.google.colaboratory.intrinsic+json": {
              "type": "string"
            }
          },
          "metadata": {},
          "execution_count": 7
        }
      ]
    }
  ]
}