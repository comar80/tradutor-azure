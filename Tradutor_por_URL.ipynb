{
  "nbformat": 4,
  "nbformat_minor": 0,
  "metadata": {
    "colab": {
      "provenance": [],
      "authorship_tag": "ABX9TyNaHRbOmdz50ePmOYQE7OG8",
      "include_colab_link": true
    },
    "kernelspec": {
      "name": "python3",
      "display_name": "Python 3"
    },
    "language_info": {
      "name": "python"
    }
  },
  "cells": [
    {
      "cell_type": "markdown",
      "metadata": {
        "id": "view-in-github",
        "colab_type": "text"
      },
      "source": [
        "<a href=\"https://colab.research.google.com/github/comar80/tradutor-azure/blob/main/Tradutor_por_URL.ipynb\" target=\"_parent\"><img src=\"https://colab.research.google.com/assets/colab-badge.svg\" alt=\"Open In Colab\"/></a>"
      ]
    },
    {
      "cell_type": "code",
      "execution_count": null,
      "metadata": {
        "collapsed": true,
        "id": "BntTYXzRkRwn"
      },
      "outputs": [],
      "source": [
        "!pip  install requests beautifulsoup4 openai langchain-openai"
      ]
    },
    {
      "cell_type": "code",
      "source": [
        "import requests\n",
        "from bs4 import BeautifulSoup\n",
        "\n",
        "def extract_text_from_url(url):\n",
        "  response = requests.get(url)\n",
        "\n",
        "  if response.status_code == 200:\n",
        "      soup = BeautifulSoup(response.text, 'html.parser')\n",
        "\n",
        "      for script_or_style in soup(['script', 'style']):\n",
        "        script_or_style.decompose()\n",
        "\n",
        "      text = soup.get_text(separator=' ')\n",
        "\n",
        "      lines = (line.strip() for line in text.splitlines())\n",
        "      parts = (phrase.strip() for line in lines for phrase in line.split(\" \"))\n",
        "      text_clean = '\\n'.join(part for part in parts if part)\n",
        "      return text_clean\n",
        "\n",
        "  else:\n",
        "    print(f\"Falhou. Status: {response.status_code}\")\n",
        "    return None\n",
        "\n",
        "  text = soup.get_text()\n",
        "  return text\n",
        "\n",
        "extract_text_from_url('https://dev.to/nfrankel/duckdb-in-action-4d29')\n"
      ],
      "metadata": {
        "id": "UDWASC20kuu1"
      },
      "execution_count": null,
      "outputs": []
    },
    {
      "cell_type": "code",
      "source": [
        "from langchain_openai.chat_models.azure import AzureChatOpenAI\n",
        "from google.colab import userdata\n",
        "api_key = userdata.get('api_key')\n",
        "\n",
        "\n",
        "\n",
        "client = AzureChatOpenAI(\n",
        "    azure_endpoint = 'https://openai-dio-dev2.openai.azure.com/',\n",
        "    api_key = api_key,\n",
        "    api_version = '2024-02-15-preview',\n",
        "    deployment_name = 'gpt-4o-mini',\n",
        "    max_retries=0\n",
        ")\n",
        "\n",
        "def translate_article(text, lang):\n",
        "  messages = [\n",
        "      (\"system\", \"Você é um tradutor de textos\"),\n",
        "      (\"user\", f\"Traduza o {text} para o idioma {lang} e responda em markdown\")\n",
        "  ]\n",
        "\n",
        "  response = client.invoke(messages)\n",
        "  print(response.content)\n",
        "  return response.content\n",
        "\n",
        "translate_article(\"The new $599 M4 Mac Mini is really good. In more than one way.\", \"portugues\")"
      ],
      "metadata": {
        "colab": {
          "base_uri": "https://localhost:8080/",
          "height": 53
        },
        "id": "-hrdHxI3nL6u",
        "outputId": "d5b26efd-64f6-4093-e2de-801de14e64a6"
      },
      "execution_count": 15,
      "outputs": [
        {
          "output_type": "stream",
          "name": "stdout",
          "text": [
            "O novo Mac Mini M4 de $599 é realmente bom. De mais de uma maneira.\n"
          ]
        },
        {
          "output_type": "execute_result",
          "data": {
            "text/plain": [
              "'O novo Mac Mini M4 de $599 é realmente bom. De mais de uma maneira.'"
            ],
            "application/vnd.google.colaboratory.intrinsic+json": {
              "type": "string"
            }
          },
          "metadata": {},
          "execution_count": 15
        }
      ]
    },
    {
      "cell_type": "code",
      "source": [
        "url = \"https://dev.to/nfrankel/duckdb-in-action-4d29\"\n",
        "text = extract_text_from_url(url)\n",
        "article = translate_article(text, \"pt-br\")\n",
        "\n",
        "print(article)"
      ],
      "metadata": {
        "id": "cfDHSxO0qN2R"
      },
      "execution_count": null,
      "outputs": []
    }
  ]
}